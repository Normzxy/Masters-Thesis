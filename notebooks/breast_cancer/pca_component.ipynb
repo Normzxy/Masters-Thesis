﻿{
 "cells": [
  {
   "cell_type": "code",
   "id": "initial_id",
   "metadata": {
    "collapsed": true,
    "ExecuteTime": {
     "end_time": "2025-07-22T16:34:41.247106Z",
     "start_time": "2025-07-22T16:34:41.243111Z"
    }
   },
   "source": [
    "import numpy as np\n",
    "import pandas as pd\n",
    "from sklearn.datasets import load_breast_cancer"
   ],
   "outputs": [],
   "execution_count": 40
  },
  {
   "metadata": {
    "ExecuteTime": {
     "end_time": "2025-07-22T16:34:41.322755Z",
     "start_time": "2025-07-22T16:34:41.311119Z"
    }
   },
   "cell_type": "code",
   "source": [
    "data = load_breast_cancer()\n",
    "df = pd.DataFrame(data.data, columns=data.feature_names)\n",
    "df['target'] = data.target\n",
    "\n",
    "X = df.drop('target', axis=1)\n",
    "Y = df['target']"
   ],
   "id": "ff3745bf4e54340e",
   "outputs": [],
   "execution_count": 41
  },
  {
   "metadata": {
    "ExecuteTime": {
     "end_time": "2025-07-22T16:34:41.370650Z",
     "start_time": "2025-07-22T16:34:41.367331Z"
    }
   },
   "cell_type": "code",
   "source": "from sklearn.preprocessing import StandardScaler",
   "id": "8c486b33fbbcab70",
   "outputs": [],
   "execution_count": 42
  },
  {
   "metadata": {
    "ExecuteTime": {
     "end_time": "2025-07-22T16:34:41.424031Z",
     "start_time": "2025-07-22T16:34:41.417421Z"
    }
   },
   "cell_type": "code",
   "source": [
    "scaler = StandardScaler()\n",
    "X_scaled = scaler.fit_transform(X)"
   ],
   "id": "dc13fcf53a15d074",
   "outputs": [],
   "execution_count": 43
  },
  {
   "metadata": {
    "ExecuteTime": {
     "end_time": "2025-07-22T16:34:41.472670Z",
     "start_time": "2025-07-22T16:34:41.469512Z"
    }
   },
   "cell_type": "code",
   "source": "from sklearn.decomposition import PCA",
   "id": "f1845012c4c601b7",
   "outputs": [],
   "execution_count": 44
  },
  {
   "metadata": {
    "ExecuteTime": {
     "end_time": "2025-07-22T16:34:41.519846Z",
     "start_time": "2025-07-22T16:34:41.515281Z"
    }
   },
   "cell_type": "code",
   "source": [
    "pca_model = PCA(n_components=1)\n",
    "pca_results = pca_model.fit_transform(X_scaled)"
   ],
   "id": "e144676f95103db7",
   "outputs": [],
   "execution_count": 45
  },
  {
   "metadata": {
    "ExecuteTime": {
     "end_time": "2025-07-22T16:34:41.578642Z",
     "start_time": "2025-07-22T16:34:41.563546Z"
    }
   },
   "cell_type": "code",
   "source": [
    "df_components = pd.DataFrame(data=pca_model.components_, index=['PC1'], columns=X.columns)\n",
    "\n",
    "# REPRESENTS FIRST PRINCIPAL COPONENT (PC1) EXTRACTED FROM 30 FEATURES #\n",
    "df_components"
   ],
   "id": "5ad934b701e18373",
   "outputs": [
    {
     "data": {
      "text/plain": [
       "     mean radius  mean texture  mean perimeter  mean area  mean smoothness  \\\n",
       "PC1     0.218902      0.103725        0.227537   0.220995          0.14259   \n",
       "\n",
       "     mean compactness  mean concavity  mean concave points  mean symmetry  \\\n",
       "PC1          0.239285          0.2584             0.260854       0.138167   \n",
       "\n",
       "     mean fractal dimension  ...  worst radius  worst texture  \\\n",
       "PC1                0.064363  ...      0.227997       0.104469   \n",
       "\n",
       "     worst perimeter  worst area  worst smoothness  worst compactness  \\\n",
       "PC1          0.23664    0.224871          0.127953           0.210096   \n",
       "\n",
       "     worst concavity  worst concave points  worst symmetry  \\\n",
       "PC1         0.228768              0.250886        0.122905   \n",
       "\n",
       "     worst fractal dimension  \n",
       "PC1                 0.131784  \n",
       "\n",
       "[1 rows x 30 columns]"
      ],
      "text/html": [
       "<div>\n",
       "<style scoped>\n",
       "    .dataframe tbody tr th:only-of-type {\n",
       "        vertical-align: middle;\n",
       "    }\n",
       "\n",
       "    .dataframe tbody tr th {\n",
       "        vertical-align: top;\n",
       "    }\n",
       "\n",
       "    .dataframe thead th {\n",
       "        text-align: right;\n",
       "    }\n",
       "</style>\n",
       "<table border=\"1\" class=\"dataframe\">\n",
       "  <thead>\n",
       "    <tr style=\"text-align: right;\">\n",
       "      <th></th>\n",
       "      <th>mean radius</th>\n",
       "      <th>mean texture</th>\n",
       "      <th>mean perimeter</th>\n",
       "      <th>mean area</th>\n",
       "      <th>mean smoothness</th>\n",
       "      <th>mean compactness</th>\n",
       "      <th>mean concavity</th>\n",
       "      <th>mean concave points</th>\n",
       "      <th>mean symmetry</th>\n",
       "      <th>mean fractal dimension</th>\n",
       "      <th>...</th>\n",
       "      <th>worst radius</th>\n",
       "      <th>worst texture</th>\n",
       "      <th>worst perimeter</th>\n",
       "      <th>worst area</th>\n",
       "      <th>worst smoothness</th>\n",
       "      <th>worst compactness</th>\n",
       "      <th>worst concavity</th>\n",
       "      <th>worst concave points</th>\n",
       "      <th>worst symmetry</th>\n",
       "      <th>worst fractal dimension</th>\n",
       "    </tr>\n",
       "  </thead>\n",
       "  <tbody>\n",
       "    <tr>\n",
       "      <th>PC1</th>\n",
       "      <td>0.218902</td>\n",
       "      <td>0.103725</td>\n",
       "      <td>0.227537</td>\n",
       "      <td>0.220995</td>\n",
       "      <td>0.14259</td>\n",
       "      <td>0.239285</td>\n",
       "      <td>0.2584</td>\n",
       "      <td>0.260854</td>\n",
       "      <td>0.138167</td>\n",
       "      <td>0.064363</td>\n",
       "      <td>...</td>\n",
       "      <td>0.227997</td>\n",
       "      <td>0.104469</td>\n",
       "      <td>0.23664</td>\n",
       "      <td>0.224871</td>\n",
       "      <td>0.127953</td>\n",
       "      <td>0.210096</td>\n",
       "      <td>0.228768</td>\n",
       "      <td>0.250886</td>\n",
       "      <td>0.122905</td>\n",
       "      <td>0.131784</td>\n",
       "    </tr>\n",
       "  </tbody>\n",
       "</table>\n",
       "<p>1 rows × 30 columns</p>\n",
       "</div>"
      ]
     },
     "execution_count": 46,
     "metadata": {},
     "output_type": "execute_result"
    }
   ],
   "execution_count": 46
  },
  {
   "metadata": {
    "ExecuteTime": {
     "end_time": "2025-07-22T16:34:41.678821Z",
     "start_time": "2025-07-22T16:34:41.672925Z"
    }
   },
   "cell_type": "code",
   "source": [
    "# 15 MOST IMPORTANT FEATURES 50% ACCORDING TO PC1 #\n",
    "\n",
    "top_features = df_components.loc['PC1'].abs().sort_values(ascending=False)\n",
    "top_feature_names = top_features.head(15).index.tolist()\n",
    "print(top_features.head(15))"
   ],
   "id": "4c490f9f17d13fb3",
   "outputs": [
    {
     "name": "stdout",
     "output_type": "stream",
     "text": [
      "mean concave points     0.260854\n",
      "mean concavity          0.258400\n",
      "worst concave points    0.250886\n",
      "mean compactness        0.239285\n",
      "worst perimeter         0.236640\n",
      "worst concavity         0.228768\n",
      "worst radius            0.227997\n",
      "mean perimeter          0.227537\n",
      "worst area              0.224871\n",
      "mean area               0.220995\n",
      "mean radius             0.218902\n",
      "perimeter error         0.211326\n",
      "worst compactness       0.210096\n",
      "radius error            0.205979\n",
      "area error              0.202870\n",
      "Name: PC1, dtype: float64\n"
     ]
    }
   ],
   "execution_count": 47
  },
  {
   "metadata": {
    "ExecuteTime": {
     "end_time": "2025-07-22T16:34:41.837512Z",
     "start_time": "2025-07-22T16:34:41.832845Z"
    }
   },
   "cell_type": "code",
   "source": "top_feature_names",
   "id": "f80c25d8039eed56",
   "outputs": [
    {
     "data": {
      "text/plain": [
       "['mean concave points',\n",
       " 'mean concavity',\n",
       " 'worst concave points',\n",
       " 'mean compactness',\n",
       " 'worst perimeter',\n",
       " 'worst concavity',\n",
       " 'worst radius',\n",
       " 'mean perimeter',\n",
       " 'worst area',\n",
       " 'mean area',\n",
       " 'mean radius',\n",
       " 'perimeter error',\n",
       " 'worst compactness',\n",
       " 'radius error',\n",
       " 'area error']"
      ]
     },
     "execution_count": 48,
     "metadata": {},
     "output_type": "execute_result"
    }
   ],
   "execution_count": 48
  },
  {
   "metadata": {
    "ExecuteTime": {
     "end_time": "2025-07-22T16:34:41.910703Z",
     "start_time": "2025-07-22T16:34:41.903336Z"
    }
   },
   "cell_type": "code",
   "source": [
    "from utils import outliers_generation_functions as ogf\n",
    "import importlib\n",
    "importlib.reload(ogf)"
   ],
   "id": "6ee16d725557eb5a",
   "outputs": [
    {
     "data": {
      "text/plain": [
       "<module 'utils.outliers_generation_functions' from 'C:\\\\Users\\\\Artur\\\\Desktop\\\\PythonProject\\\\utils\\\\outliers_generation_functions.py'>"
      ]
     },
     "execution_count": 49,
     "metadata": {},
     "output_type": "execute_result"
    }
   ],
   "execution_count": 49
  },
  {
   "metadata": {
    "ExecuteTime": {
     "end_time": "2025-07-22T16:34:41.965778Z",
     "start_time": "2025-07-22T16:34:41.962545Z"
    }
   },
   "cell_type": "code",
   "source": [
    "########################################################\n",
    "# PERTURB MOST 15 IMPORTANT FEATURES ACCORDING TO PCA1 #\n",
    "########################################################"
   ],
   "id": "a9a3a7cc7ac05069",
   "outputs": [],
   "execution_count": 50
  },
  {
   "metadata": {
    "ExecuteTime": {
     "end_time": "2025-07-22T16:34:57.905055Z",
     "start_time": "2025-07-22T16:34:42.016375Z"
    }
   },
   "cell_type": "code",
   "source": [
    "percentages = np.arange(1, 51, 1)\n",
    "\n",
    "for p in percentages:\n",
    "    df_out = ogf.perturb_within_distribution(\n",
    "        original_data=df,\n",
    "        pct_to_perturb=p,\n",
    "        target_column='target',\n",
    "        feats_to_perturb=top_feature_names,\n",
    "        gamma=12.0,\n",
    "        random_seed=101,\n",
    "        decimal_places=6,\n",
    "        save=True,\n",
    "        directory_name='BCW_1to50pct_15of30_g12_pca',\n",
    "        key_word='perturbed'\n",
    "    )"
   ],
   "id": "7d045f1487a6b5d1",
   "outputs": [],
   "execution_count": 51
  }
 ],
 "metadata": {
  "kernelspec": {
   "display_name": "Python 3",
   "language": "python",
   "name": "python3"
  },
  "language_info": {
   "codemirror_mode": {
    "name": "ipython",
    "version": 2
   },
   "file_extension": ".py",
   "mimetype": "text/x-python",
   "name": "python",
   "nbconvert_exporter": "python",
   "pygments_lexer": "ipython2",
   "version": "2.7.6"
  }
 },
 "nbformat": 4,
 "nbformat_minor": 5
}
