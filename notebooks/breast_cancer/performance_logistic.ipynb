﻿{
 "cells": [
  {
   "cell_type": "code",
   "id": "initial_id",
   "metadata": {
    "collapsed": true,
    "ExecuteTime": {
     "end_time": "2025-06-15T17:31:56.639499Z",
     "start_time": "2025-06-15T17:31:56.635457Z"
    }
   },
   "source": [
    "import numpy as np\n",
    "import pandas as pd\n",
    "from utils import helper_functions as hf"
   ],
   "outputs": [],
   "execution_count": 35
  },
  {
   "metadata": {
    "ExecuteTime": {
     "end_time": "2025-06-15T17:31:56.695800Z",
     "start_time": "2025-06-15T17:31:56.690338Z"
    }
   },
   "cell_type": "code",
   "source": [
    "import importlib\n",
    "importlib.reload(hf)"
   ],
   "id": "bdc895e1490afc5",
   "outputs": [
    {
     "data": {
      "text/plain": [
       "<module 'utils.helper_functions' from 'C:\\\\Users\\\\Artur\\\\Desktop\\\\MasterThesisProject\\\\utils\\\\helper_functions.py'>"
      ]
     },
     "execution_count": 36,
     "metadata": {},
     "output_type": "execute_result"
    }
   ],
   "execution_count": 36
  },
  {
   "metadata": {
    "ExecuteTime": {
     "end_time": "2025-06-15T17:31:56.871957Z",
     "start_time": "2025-06-15T17:31:56.766354Z"
    }
   },
   "cell_type": "code",
   "source": [
    "outlier_pcts = np.arange(1, 51, 1)\n",
    "dfs = {}\n",
    "\n",
    "for pct in outlier_pcts:\n",
    "    path = f\"../../data/perturbed_datasets/breast_cancer_pca_1to50pct_10of10_s6/perturbed_{pct}_pct.csv\"\n",
    "    dfs[pct] = pd.read_csv(path)"
   ],
   "id": "6395b04dd2a6f89c",
   "outputs": [],
   "execution_count": 37
  },
  {
   "metadata": {
    "ExecuteTime": {
     "end_time": "2025-06-15T17:31:56.921204Z",
     "start_time": "2025-06-15T17:31:56.917902Z"
    }
   },
   "cell_type": "code",
   "source": [
    "from sklearn.model_selection import train_test_split\n",
    "from sklearn.preprocessing import StandardScaler\n",
    "from sklearn.linear_model import LogisticRegression\n",
    "from sklearn.model_selection import GridSearchCV\n",
    "from sklearn.pipeline import Pipeline"
   ],
   "id": "beb91cfdd3d268a5",
   "outputs": [],
   "execution_count": 38
  },
  {
   "metadata": {
    "ExecuteTime": {
     "end_time": "2025-06-15T17:33:10.406960Z",
     "start_time": "2025-06-15T17:31:56.966773Z"
    }
   },
   "cell_type": "code",
   "source": [
    "metric_scores = []\n",
    "\n",
    "for pct, df in dfs.items():\n",
    "    X = df.drop('target', axis=1)\n",
    "    Y = df['target']\n",
    "\n",
    "    # 40% is the final holdout test set. #\n",
    "    X_train, X_test, Y_train, Y_test = train_test_split(\n",
    "        X, Y, test_size=0.4, stratify=Y, random_state=101)\n",
    "\n",
    "    # Allows performing scaling inside the grid_model. #\n",
    "    pipe_steps = Pipeline([\n",
    "    ('scaler', StandardScaler()),\n",
    "    ('logistic', LogisticRegression(\n",
    "        solver='saga', max_iter=5000, random_state=101))])\n",
    "\n",
    "    param_grid = [\n",
    "        {'logistic__penalty': ['l1', 'l2'],\n",
    "         'logistic__C': np.logspace(-4, 4, 20),\n",
    "         'logistic__class_weight': ['balanced']},\n",
    "        {'logistic__penalty': ['elasticnet'],\n",
    "         'logistic__l1_ratio': [0.0, 0.25, 0.5, 0.75, 1.0],\n",
    "         'logistic__C': np.logspace(-4, 4, 20),\n",
    "         'logistic__class_weight': ['balanced']}]\n",
    "\n",
    "    # The n_jobs=-1 allows using all available CPU cores.\n",
    "    grid_model = GridSearchCV(\n",
    "        pipe_steps, param_grid,\n",
    "        scoring='f1_macro', cv=5, n_jobs=-1)\n",
    "\n",
    "    grid_model.fit(X_train, Y_train)\n",
    "\n",
    "    mets = hf.evaluate_model(grid_model, X_test, Y_test)\n",
    "    mets['outlier_pct'] = pct\n",
    "    metric_scores.append(mets)"
   ],
   "id": "a0e6ad79d9692f05",
   "outputs": [],
   "execution_count": 39
  },
  {
   "metadata": {
    "ExecuteTime": {
     "end_time": "2025-06-15T17:33:10.475526Z",
     "start_time": "2025-06-15T17:33:10.470042Z"
    }
   },
   "cell_type": "code",
   "source": "ms = pd.DataFrame(metric_scores).set_index('outlier_pct')",
   "id": "f7799934d5907715",
   "outputs": [],
   "execution_count": 40
  },
  {
   "metadata": {
    "ExecuteTime": {
     "end_time": "2025-06-15T17:33:10.556235Z",
     "start_time": "2025-06-15T17:33:10.552539Z"
    }
   },
   "cell_type": "code",
   "source": "import matplotlib.pyplot as plt",
   "id": "ce98f0f46719f629",
   "outputs": [],
   "execution_count": 41
  },
  {
   "metadata": {
    "ExecuteTime": {
     "end_time": "2025-07-02T20:54:37.330125Z",
     "start_time": "2025-07-02T20:54:37.325355Z"
    }
   },
   "cell_type": "code",
   "source": [
    "plt.figure(figsize=(12, 9), dpi=200)\n",
    "for metric in ['Accuracy', 'Precision', 'Recall', 'F1 Score']:\n",
    "    plt.plot(ms.index, ms[metric], label=metric)\n",
    "plt.xlabel('Percent of outliers introduced')\n",
    "plt.ylabel('Metric value')\n",
    "plt.title('Model performance depending on percentage of outliers introduced')\n",
    "plt.grid(True)\n",
    "plt.legend()\n",
    "plt.show()"
   ],
   "id": "945cd05f6842ae7c",
   "outputs": [],
   "execution_count": 1
  }
 ],
 "metadata": {
  "kernelspec": {
   "display_name": "Python 3",
   "language": "python",
   "name": "python3"
  },
  "language_info": {
   "codemirror_mode": {
    "name": "ipython",
    "version": 2
   },
   "file_extension": ".py",
   "mimetype": "text/x-python",
   "name": "python",
   "nbconvert_exporter": "python",
   "pygments_lexer": "ipython2",
   "version": "2.7.6"
  }
 },
 "nbformat": 4,
 "nbformat_minor": 5
}
