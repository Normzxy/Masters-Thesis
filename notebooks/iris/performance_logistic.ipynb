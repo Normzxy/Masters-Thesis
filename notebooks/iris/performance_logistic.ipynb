﻿{
 "cells": [
  {
   "cell_type": "code",
   "id": "initial_id",
   "metadata": {
    "collapsed": true,
    "ExecuteTime": {
     "end_time": "2025-06-25T10:55:14.606571Z",
     "start_time": "2025-06-25T10:55:07.742155Z"
    }
   },
   "source": [
    "import numpy as np\n",
    "import pandas as pd\n",
    "from utils import helper_functions as hf"
   ],
   "outputs": [],
   "execution_count": 1
  },
  {
   "metadata": {
    "ExecuteTime": {
     "end_time": "2025-06-25T10:55:14.638458Z",
     "start_time": "2025-06-25T10:55:14.629211Z"
    }
   },
   "cell_type": "code",
   "source": [
    "import importlib\n",
    "importlib.reload(hf)"
   ],
   "id": "bdc895e1490afc5",
   "outputs": [
    {
     "data": {
      "text/plain": [
       "<module 'utils.helper_functions' from 'C:\\\\Users\\\\Artur\\\\Desktop\\\\MastersThesisProject\\\\utils\\\\helper_functions.py'>"
      ]
     },
     "execution_count": 2,
     "metadata": {},
     "output_type": "execute_result"
    }
   ],
   "execution_count": 2
  },
  {
   "metadata": {
    "ExecuteTime": {
     "end_time": "2025-06-25T11:30:17.759903Z",
     "start_time": "2025-06-25T11:30:17.755054Z"
    }
   },
   "cell_type": "code",
   "source": [
    "outlier_pcts = np.arange(2, 52, 2)\n",
    "dfs = {}\n",
    "\n",
    "for pct in outlier_pcts:\n",
    "    path = f\"../../data/perturbed_datasets/iris_2_to_50_pct/iris_{pct}.csv\"\n",
    "    dfs[pct] = pd.read_csv(path)"
   ],
   "id": "6395b04dd2a6f89c",
   "outputs": [],
   "execution_count": 1
  },
  {
   "metadata": {
    "ExecuteTime": {
     "end_time": "2025-06-15T14:31:56.005240200Z",
     "start_time": "2025-06-11T14:54:56.696933Z"
    }
   },
   "cell_type": "code",
   "source": [
    "from sklearn.model_selection import train_test_split\n",
    "from sklearn.preprocessing import StandardScaler\n",
    "from sklearn.linear_model import LogisticRegression\n",
    "from sklearn.multiclass import OneVsRestClassifier\n",
    "from sklearn.model_selection import GridSearchCV\n",
    "from sklearn.pipeline import Pipeline"
   ],
   "id": "beb91cfdd3d268a5",
   "outputs": [],
   "execution_count": 10
  },
  {
   "metadata": {
    "ExecuteTime": {
     "end_time": "2025-06-15T14:31:56.008238700Z",
     "start_time": "2025-06-11T14:54:56.805944Z"
    }
   },
   "cell_type": "code",
   "source": [
    "metric_scores = []\n",
    "\n",
    "for pct, df in dfs.items():\n",
    "    X = df.drop('target', axis=1)\n",
    "    Y = df['target']\n",
    "\n",
    "    # 10% is the final holdout test set. #\n",
    "    X_train, X_test, Y_train, Y_test = train_test_split(\n",
    "        X, Y, test_size=0.4, stratify=Y, random_state=101)\n",
    "\n",
    "    # Allows performing scaling inside the grid_model. #\n",
    "    pipe_steps = Pipeline([\n",
    "    ('scaler', StandardScaler()),\n",
    "    ('logistic', OneVsRestClassifier(\n",
    "        LogisticRegression(solver='saga', max_iter=5000, random_state=101)))])\n",
    "\n",
    "    param_grid = [\n",
    "        {'logistic__estimator__penalty': ['l1', 'l2'],\n",
    "         'logistic__estimator__C': np.logspace(-2, 2, 10)},\n",
    "        {'logistic__estimator__penalty': ['elasticnet'],\n",
    "         'logistic__estimator__l1_ratio': np.linspace(0.1, 1.0, 10),\n",
    "         'logistic__estimator__C': np.logspace(-2, 2, 10)}]\n",
    "\n",
    "    # The n_jobs=-1 allows using all available CPU cores.\n",
    "    grid_model = GridSearchCV(\n",
    "        pipe_steps, param_grid,\n",
    "        cv=5, n_jobs=-1, verbose=1)\n",
    "\n",
    "    grid_model.fit(X_train, Y_train)\n",
    "\n",
    "    mets = hf.evaluate_model(grid_model, X_test, Y_test)\n",
    "    mets['outlier_pct'] = pct\n",
    "    metric_scores.append(mets)"
   ],
   "id": "a0e6ad79d9692f05",
   "outputs": [
    {
     "name": "stdout",
     "output_type": "stream",
     "text": [
      "Fitting 5 folds for each of 120 candidates, totalling 600 fits\n",
      "Fitting 5 folds for each of 120 candidates, totalling 600 fits\n",
      "Fitting 5 folds for each of 120 candidates, totalling 600 fits\n",
      "Fitting 5 folds for each of 120 candidates, totalling 600 fits\n",
      "Fitting 5 folds for each of 120 candidates, totalling 600 fits\n",
      "Fitting 5 folds for each of 120 candidates, totalling 600 fits\n",
      "Fitting 5 folds for each of 120 candidates, totalling 600 fits\n",
      "Fitting 5 folds for each of 120 candidates, totalling 600 fits\n",
      "Fitting 5 folds for each of 120 candidates, totalling 600 fits\n",
      "Fitting 5 folds for each of 120 candidates, totalling 600 fits\n",
      "Fitting 5 folds for each of 120 candidates, totalling 600 fits\n",
      "Fitting 5 folds for each of 120 candidates, totalling 600 fits\n",
      "Fitting 5 folds for each of 120 candidates, totalling 600 fits\n",
      "Fitting 5 folds for each of 120 candidates, totalling 600 fits\n",
      "Fitting 5 folds for each of 120 candidates, totalling 600 fits\n",
      "Fitting 5 folds for each of 120 candidates, totalling 600 fits\n",
      "Fitting 5 folds for each of 120 candidates, totalling 600 fits\n",
      "Fitting 5 folds for each of 120 candidates, totalling 600 fits\n",
      "Fitting 5 folds for each of 120 candidates, totalling 600 fits\n",
      "Fitting 5 folds for each of 120 candidates, totalling 600 fits\n",
      "Fitting 5 folds for each of 120 candidates, totalling 600 fits\n",
      "Fitting 5 folds for each of 120 candidates, totalling 600 fits\n",
      "Fitting 5 folds for each of 120 candidates, totalling 600 fits\n",
      "Fitting 5 folds for each of 120 candidates, totalling 600 fits\n",
      "Fitting 5 folds for each of 120 candidates, totalling 600 fits\n"
     ]
    }
   ],
   "execution_count": 11
  },
  {
   "metadata": {
    "ExecuteTime": {
     "end_time": "2025-06-15T14:31:56.011241500Z",
     "start_time": "2025-06-11T14:55:31.014852Z"
    }
   },
   "cell_type": "code",
   "source": "ms = pd.DataFrame(metric_scores).set_index('outlier_pct')",
   "id": "f7799934d5907715",
   "outputs": [],
   "execution_count": 12
  },
  {
   "metadata": {},
   "cell_type": "code",
   "outputs": [],
   "execution_count": null,
   "source": "import matplotlib.pyplot as plt",
   "id": "3e7f6ab8a3a08b08"
  },
  {
   "metadata": {
    "ExecuteTime": {
     "end_time": "2025-07-02T17:10:41.317307Z",
     "start_time": "2025-07-02T17:10:41.313615Z"
    }
   },
   "cell_type": "code",
   "source": [
    "plt.figure(figsize=(12, 8), dpi=100)\n",
    "for metric in ['Accuracy', 'Precision', 'Recall', 'F1 Score']:\n",
    "    plt.plot(ms.index, ms[metric], label=metric)\n",
    "plt.xlabel('Percent of outliers introduced')\n",
    "plt.ylabel('Metric value')\n",
    "plt.title('Model performance depending on percentage of outliers introduced.')\n",
    "plt.grid(True)\n",
    "plt.legend()\n",
    "plt.show()"
   ],
   "id": "945cd05f6842ae7c",
   "outputs": [],
   "execution_count": 1
  }
 ],
 "metadata": {
  "kernelspec": {
   "display_name": "Python 3",
   "language": "python",
   "name": "python3"
  },
  "language_info": {
   "codemirror_mode": {
    "name": "ipython",
    "version": 2
   },
   "file_extension": ".py",
   "mimetype": "text/x-python",
   "name": "python",
   "nbconvert_exporter": "python",
   "pygments_lexer": "ipython2",
   "version": "2.7.6"
  }
 },
 "nbformat": 4,
 "nbformat_minor": 5
}
